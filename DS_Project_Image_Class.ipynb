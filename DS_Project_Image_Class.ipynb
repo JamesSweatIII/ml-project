{
  "cells": [
    {
      "cell_type": "code",
      "execution_count": 1,
      "metadata": {
        "id": "h47rDu04ybob"
      },
      "outputs": [
        {
          "name": "stderr",
          "output_type": "stream",
          "text": [
            "2024-01-10 00:10:42.548504: I tensorflow/core/platform/cpu_feature_guard.cc:182] This TensorFlow binary is optimized to use available CPU instructions in performance-critical operations.\n",
            "To enable the following instructions: AVX2 FMA, in other operations, rebuild TensorFlow with the appropriate compiler flags.\n"
          ]
        }
      ],
      "source": [
        "#IMPORT\n",
        "from keras.models import Sequential\n",
        "from keras.layers import Conv2D,Activation,MaxPooling2D,Dense,Flatten,Dropout\n",
        "from keras.preprocessing.image import ImageDataGenerator\n",
        "import numpy as np"
      ]
    },
    {
      "cell_type": "code",
      "execution_count": 2,
      "metadata": {
        "id": "FZjcKwGPJsum"
      },
      "outputs": [],
      "source": [
        "realFakeImageClassifier = Sequential()"
      ]
    },
    {
      "cell_type": "code",
      "execution_count": 3,
      "metadata": {
        "id": "FT-pJtjcJ3dD"
      },
      "outputs": [],
      "source": [
        "realFakeImageClassifier.add(Conv2D(32,(3,3),input_shape=(200,200,3)))"
      ]
    },
    {
      "cell_type": "code",
      "execution_count": 4,
      "metadata": {
        "id": "CrEzaBbuJ3aM"
      },
      "outputs": [],
      "source": [
        "realFakeImageClassifier.add(Activation('relu'))"
      ]
    },
    {
      "cell_type": "code",
      "execution_count": 5,
      "metadata": {
        "id": "r0NJo1snJ3XZ"
      },
      "outputs": [],
      "source": [
        "realFakeImageClassifier.add(MaxPooling2D(pool_size =(2,2)))"
      ]
    },
    {
      "cell_type": "code",
      "execution_count": 6,
      "metadata": {
        "id": "bCjFYbomJ3VE"
      },
      "outputs": [],
      "source": [
        "realFakeImageClassifier.add(Conv2D(32, (3, 3), input_shape=(200, 200, 3)))\n",
        "realFakeImageClassifier.add(Activation('relu'))\n",
        "realFakeImageClassifier.add(MaxPooling2D(pool_size=(2, 2)))\n",
        "\n",
        "realFakeImageClassifier.add(Conv2D(32, (3, 3)))\n",
        "realFakeImageClassifier.add(Activation('relu'))\n",
        "realFakeImageClassifier.add(MaxPooling2D(pool_size=(2, 2)))\n",
        "\n",
        "realFakeImageClassifier.add(Conv2D(32, (3, 3)))\n",
        "realFakeImageClassifier.add(Activation('relu'))\n",
        "realFakeImageClassifier.add(MaxPooling2D(pool_size=(2, 2)))"
      ]
    },
    {
      "cell_type": "code",
      "execution_count": 7,
      "metadata": {
        "id": "LSMhg-OGJ3SJ"
      },
      "outputs": [],
      "source": [
        "realFakeImageClassifier.add(Flatten())"
      ]
    },
    {
      "cell_type": "code",
      "execution_count": 8,
      "metadata": {
        "id": "lXti4nMEJ3Pd"
      },
      "outputs": [],
      "source": [
        "realFakeImageClassifier.add(Dense(64))\n",
        "realFakeImageClassifier.add(Activation('relu'))"
      ]
    },
    {
      "cell_type": "code",
      "execution_count": 9,
      "metadata": {
        "id": "oAm4JDrNJ3MI"
      },
      "outputs": [],
      "source": [
        "realFakeImageClassifier.add(Dropout(0.5))"
      ]
    },
    {
      "cell_type": "code",
      "execution_count": 10,
      "metadata": {
        "id": "eLa0K9LFJ3JP"
      },
      "outputs": [],
      "source": [
        "realFakeImageClassifier.add(Dense(1))"
      ]
    },
    {
      "cell_type": "code",
      "execution_count": 11,
      "metadata": {
        "id": "ZVbj3mtkJ27t"
      },
      "outputs": [],
      "source": [
        "realFakeImageClassifier.add(Activation('sigmoid'))"
      ]
    },
    {
      "cell_type": "code",
      "execution_count": 12,
      "metadata": {
        "colab": {
          "base_uri": "https://localhost:8080/"
        },
        "id": "_I7htDg0KJjX",
        "outputId": "466d4bfe-24c2-438c-ef8b-31a46b055e1a"
      },
      "outputs": [
        {
          "name": "stdout",
          "output_type": "stream",
          "text": [
            "Model: \"sequential\"\n",
            "_________________________________________________________________\n",
            " Layer (type)                Output Shape              Param #   \n",
            "=================================================================\n",
            " conv2d (Conv2D)             (None, 198, 198, 32)      896       \n",
            "                                                                 \n",
            " activation (Activation)     (None, 198, 198, 32)      0         \n",
            "                                                                 \n",
            " max_pooling2d (MaxPooling2  (None, 99, 99, 32)        0         \n",
            " D)                                                              \n",
            "                                                                 \n",
            " conv2d_1 (Conv2D)           (None, 97, 97, 32)        9248      \n",
            "                                                                 \n",
            " activation_1 (Activation)   (None, 97, 97, 32)        0         \n",
            "                                                                 \n",
            " max_pooling2d_1 (MaxPoolin  (None, 48, 48, 32)        0         \n",
            " g2D)                                                            \n",
            "                                                                 \n",
            " conv2d_2 (Conv2D)           (None, 46, 46, 32)        9248      \n",
            "                                                                 \n",
            " activation_2 (Activation)   (None, 46, 46, 32)        0         \n",
            "                                                                 \n",
            " max_pooling2d_2 (MaxPoolin  (None, 23, 23, 32)        0         \n",
            " g2D)                                                            \n",
            "                                                                 \n",
            " conv2d_3 (Conv2D)           (None, 21, 21, 32)        9248      \n",
            "                                                                 \n",
            " activation_3 (Activation)   (None, 21, 21, 32)        0         \n",
            "                                                                 \n",
            " max_pooling2d_3 (MaxPoolin  (None, 10, 10, 32)        0         \n",
            " g2D)                                                            \n",
            "                                                                 \n",
            " flatten (Flatten)           (None, 3200)              0         \n",
            "                                                                 \n",
            " dense (Dense)               (None, 64)                204864    \n",
            "                                                                 \n",
            " activation_4 (Activation)   (None, 64)                0         \n",
            "                                                                 \n",
            " dropout (Dropout)           (None, 64)                0         \n",
            "                                                                 \n",
            " dense_1 (Dense)             (None, 1)                 65        \n",
            "                                                                 \n",
            " activation_5 (Activation)   (None, 1)                 0         \n",
            "                                                                 \n",
            "=================================================================\n",
            "Total params: 233569 (912.38 KB)\n",
            "Trainable params: 233569 (912.38 KB)\n",
            "Non-trainable params: 0 (0.00 Byte)\n",
            "_________________________________________________________________\n"
          ]
        }
      ],
      "source": [
        "realFakeImageClassifier.summary()"
      ]
    },
    {
      "cell_type": "code",
      "execution_count": 13,
      "metadata": {
        "id": "Ai-Uf8CgVd1l"
      },
      "outputs": [],
      "source": [
        "realFakeImageClassifier.compile(optimizer ='rmsprop', loss ='binary_crossentropy',\n",
        "metrics =['accuracy'])"
      ]
    },
    {
      "cell_type": "code",
      "execution_count": 14,
      "metadata": {
        "id": "2pm-BkakViuo"
      },
      "outputs": [],
      "source": [
        "train_datagen = ImageDataGenerator(rescale =1./255, shear_range =0.25,zoom_range = 0.25, horizontal_flip =True)\n",
        "test_datagen = ImageDataGenerator(rescale = 1./255)"
      ]
    },
    {
      "cell_type": "code",
      "execution_count": 15,
      "metadata": {},
      "outputs": [],
      "source": [
        "import os\n",
        "import shutil\n",
        "import random\n",
        "\n",
        "def split_train_test(source_dir, train_dir, test_dir, split_ratio=0.5):\n",
        "    # List all files in the source directory\n",
        "    files = os.listdir(source_dir)\n",
        "    num_files = len(files)\n",
        "    \n",
        "    # Calculate the number of files for the train set\n",
        "    num_train = int(num_files * split_ratio)\n",
        "    \n",
        "    # Shuffle the files randomly\n",
        "    random.shuffle(files)\n",
        "    \n",
        "    # Create train and test directories if they don't exist\n",
        "    os.makedirs(train_dir, exist_ok=True)\n",
        "    os.makedirs(test_dir, exist_ok=True)\n",
        "    \n",
        "    # Move files to train and test directories based on the split ratio\n",
        "    for i, file in enumerate(files):\n",
        "        source_file = os.path.join(source_dir, file)\n",
        "        if i < num_train:\n",
        "            shutil.copy(source_file, os.path.join(train_dir, file))\n",
        "        else:\n",
        "            shutil.copy(source_file, os.path.join(test_dir, file))\n",
        "\n",
        "# Replace these paths with your source directory, train directory, and test directory\n",
        "source_directory = '/Users/jamessweat/Desktop/DS_Project_Final/OURDATA/celebahq/celebahq/data1024x1024'\n",
        "train_directory = '/Users/jamessweat/Desktop/DS_Project_Final/OURDATA/train/real'\n",
        "test_directory = '/Users/jamessweat/Desktop/DS_Project_Final/OURDATA/test/real'\n",
        "\n",
        "# Split the contents of the source directory into train and test\n",
        "split_train_test(source_directory, train_directory, test_directory)\n"
      ]
    },
    {
      "cell_type": "code",
      "execution_count": 18,
      "metadata": {},
      "outputs": [],
      "source": [
        "import os\n",
        "import shutil\n",
        "import random\n",
        "\n",
        "def split_train_test(source_dir, train_dir, test_dir, split_ratio=0.8):\n",
        "    # List all files in the source directory\n",
        "    files = os.listdir(source_dir)\n",
        "    num_files = len(files)\n",
        "    \n",
        "    # Calculate the number of files for the train set\n",
        "    num_train = int(num_files * split_ratio)\n",
        "    \n",
        "    # Shuffle the files randomly\n",
        "    random.shuffle(files)\n",
        "    \n",
        "    # Create train and test directories if they don't exist\n",
        "    os.makedirs(train_dir, exist_ok=True)\n",
        "    os.makedirs(test_dir, exist_ok=True)\n",
        "    \n",
        "    # Move files to train and test directories based on the split ratio\n",
        "    for i, file in enumerate(files):\n",
        "        source_file = os.path.join(source_dir, file)\n",
        "        if i < num_train:\n",
        "            shutil.copy(source_file, os.path.join(train_dir, file))\n",
        "        else:\n",
        "            shutil.copy(source_file, os.path.join(test_dir, file))\n",
        "\n",
        "# Replace these paths with your source directory, train directory, and test directory\n",
        "source_directory = '/Users/jamessweat/Desktop/DS_Project_Final/OURDATA/lama/lama/lama-dataset/celeb/lamaDeep'\n",
        "train_directory = '/Users/jamessweat/Desktop/DS_Project_Final/OURDATA/train/ai'\n",
        "test_directory = '/Users/jamessweat/Desktop/DS_Project_Final/OURDATA/test/ai'\n",
        "\n",
        "# Split the contents of the source directory into train and test\n",
        "split_train_test(source_directory, train_directory, test_directory)\n"
      ]
    },
    {
      "cell_type": "code",
      "execution_count": 19,
      "metadata": {},
      "outputs": [],
      "source": [
        "realFakeImageClassifier.compile(optimizer ='rmsprop', loss ='binary_crossentropy',\n",
        "metrics =['accuracy'])"
      ]
    },
    {
      "cell_type": "code",
      "execution_count": 20,
      "metadata": {},
      "outputs": [],
      "source": [
        "from keras.preprocessing.image import ImageDataGenerator\n",
        "train_datagen = ImageDataGenerator(rescale =1./255, shear_range =0.25,zoom_range = 0.25, horizontal_flip =True)\n",
        "test_datagen = ImageDataGenerator(rescale = 1./255)"
      ]
    },
    {
      "cell_type": "code",
      "execution_count": 21,
      "metadata": {},
      "outputs": [
        {
          "name": "stdout",
          "output_type": "stream",
          "text": [
            "Found 23358 images belonging to 2 classes.\n"
          ]
        }
      ],
      "source": [
        "training_set = train_datagen.flow_from_directory('/Users/jamessweat/Desktop/DS_Project_Final/OURDATA/train',target_size=(200,200),batch_size= 32,class_mode='binary')\n"
      ]
    },
    {
      "cell_type": "code",
      "execution_count": 22,
      "metadata": {},
      "outputs": [
        {
          "name": "stdout",
          "output_type": "stream",
          "text": [
            "Found 17091 images belonging to 2 classes.\n"
          ]
        }
      ],
      "source": [
        "test_set = test_datagen.flow_from_directory('/Users/jamessweat/Desktop/DS_Project_Final/OURDATA/test', target_size = (200,200),\n",
        "batch_size = 32,\n",
        "class_mode ='binary')"
      ]
    },
    {
      "cell_type": "code",
      "execution_count": 25,
      "metadata": {},
      "outputs": [
        {
          "name": "stdout",
          "output_type": "stream",
          "text": [
            "Epoch 1/30\n",
            "625/625 [==============================] - ETA: 0s - loss: 0.6111 - accuracy: 0.6706WARNING:tensorflow:Your input ran out of data; interrupting training. Make sure that your dataset or generator can generate at least `steps_per_epoch * epochs` batches (in this case, 1000 batches). You may need to use the repeat() function when building your dataset.\n",
            "625/625 [==============================] - 531s 850ms/step - loss: 0.6111 - accuracy: 0.6706 - val_loss: 0.2917 - val_accuracy: 0.8834\n",
            "Epoch 2/30\n",
            "625/625 [==============================] - 428s 683ms/step - loss: 0.5057 - accuracy: 0.7592\n",
            "Epoch 3/30\n",
            "625/625 [==============================] - 518s 828ms/step - loss: 0.4472 - accuracy: 0.7933\n",
            "Epoch 4/30\n",
            "625/625 [==============================] - 1179s 2s/step - loss: 0.4172 - accuracy: 0.8122\n",
            "Epoch 5/30\n",
            "625/625 [==============================] - 1440s 2s/step - loss: 0.4034 - accuracy: 0.8239\n",
            "Epoch 6/30\n",
            "625/625 [==============================] - 2907s 5s/step - loss: 0.3841 - accuracy: 0.8324\n",
            "Epoch 7/30\n",
            "625/625 [==============================] - 3075s 5s/step - loss: 0.3718 - accuracy: 0.8377\n",
            "Epoch 8/30\n",
            "625/625 [==============================] - 3086s 5s/step - loss: 0.3636 - accuracy: 0.8441\n",
            "Epoch 9/30\n",
            "625/625 [==============================] - 1278s 2s/step - loss: 0.3562 - accuracy: 0.8467\n",
            "Epoch 10/30\n",
            "625/625 [==============================] - 1262s 2s/step - loss: 0.3481 - accuracy: 0.8523\n",
            "Epoch 11/30\n",
            "625/625 [==============================] - 1238s 2s/step - loss: 0.3503 - accuracy: 0.8517\n",
            "Epoch 12/30\n",
            "625/625 [==============================] - 1284s 2s/step - loss: 0.3356 - accuracy: 0.8591\n",
            "Epoch 13/30\n",
            "625/625 [==============================] - 1261s 2s/step - loss: 0.3325 - accuracy: 0.8607\n",
            "Epoch 14/30\n",
            "625/625 [==============================] - 1305s 2s/step - loss: 0.3222 - accuracy: 0.8641\n",
            "Epoch 15/30\n",
            "625/625 [==============================] - 3119s 5s/step - loss: 0.3221 - accuracy: 0.8641\n",
            "Epoch 16/30\n",
            "625/625 [==============================] - 1152s 2s/step - loss: 0.3176 - accuracy: 0.8641\n",
            "Epoch 17/30\n",
            "625/625 [==============================] - 2946s 5s/step - loss: 0.3085 - accuracy: 0.8724\n",
            "Epoch 18/30\n",
            "625/625 [==============================] - 1210s 2s/step - loss: 0.3042 - accuracy: 0.8697\n",
            "Epoch 19/30\n",
            "625/625 [==============================] - 1268s 2s/step - loss: 0.3078 - accuracy: 0.8711\n",
            "Epoch 20/30\n",
            "625/625 [==============================] - 1262s 2s/step - loss: 0.3014 - accuracy: 0.8717\n",
            "Epoch 21/30\n",
            "625/625 [==============================] - 2677s 4s/step - loss: 0.2969 - accuracy: 0.8755\n",
            "Epoch 22/30\n",
            "625/625 [==============================] - 347s 555ms/step - loss: 0.3000 - accuracy: 0.8749\n",
            "Epoch 23/30\n",
            "625/625 [==============================] - 473s 756ms/step - loss: 0.2962 - accuracy: 0.8794\n",
            "Epoch 24/30\n",
            "625/625 [==============================] - 379s 607ms/step - loss: 0.2923 - accuracy: 0.8771\n",
            "Epoch 25/30\n",
            "625/625 [==============================] - 422s 675ms/step - loss: 0.2880 - accuracy: 0.8813\n",
            "Epoch 26/30\n",
            "625/625 [==============================] - 465s 743ms/step - loss: 0.2859 - accuracy: 0.8816\n",
            "Epoch 27/30\n",
            "625/625 [==============================] - 458s 732ms/step - loss: 0.2805 - accuracy: 0.8855\n",
            "Epoch 28/30\n",
            "625/625 [==============================] - 454s 726ms/step - loss: 0.2741 - accuracy: 0.8860\n",
            "Epoch 29/30\n",
            "625/625 [==============================] - 465s 744ms/step - loss: 0.2766 - accuracy: 0.8843\n",
            "Epoch 30/30\n",
            "625/625 [==============================] - 470s 751ms/step - loss: 0.2771 - accuracy: 0.8863\n"
          ]
        },
        {
          "data": {
            "text/plain": [
              "<keras.src.callbacks.History at 0x7fd4e2f9feb0>"
            ]
          },
          "execution_count": 25,
          "metadata": {},
          "output_type": "execute_result"
        }
      ],
      "source": [
        "from IPython.display import display\n",
        "from PIL import Image\n",
        "\n",
        "# Assuming realFakeImageClassifier is your model\n",
        "# Ensure you've defined and compiled your model before fitting\n",
        "\n",
        "# Assuming you have a `realFakeImageClassifier` model and appropriate data generators `training_set` and `test_set`\n",
        "realFakeImageClassifier.fit(\n",
        "    training_set,\n",
        "    steps_per_epoch=625,\n",
        "    epochs=30,\n",
        "    validation_data=test_set,\n",
        "    validation_steps=1000\n",
        ")\n"
      ]
    },
    {
      "cell_type": "code",
      "execution_count": 26,
      "metadata": {},
      "outputs": [
        {
          "name": "stdout",
          "output_type": "stream",
          "text": [
            "INFO:tensorflow:Assets written to: realfake_cnn_model/assets\n"
          ]
        },
        {
          "name": "stderr",
          "output_type": "stream",
          "text": [
            "INFO:tensorflow:Assets written to: realfake_cnn_model/assets\n"
          ]
        }
      ],
      "source": [
        "realFakeImageClassifier.save('realfake_cnn_model')"
      ]
    },
    {
      "cell_type": "code",
      "execution_count": 27,
      "metadata": {},
      "outputs": [],
      "source": [
        "from keras.models import load_model\n",
        "newClassifier = load_model('realfake_cnn_model')"
      ]
    },
    {
      "cell_type": "code",
      "execution_count": 28,
      "metadata": {},
      "outputs": [],
      "source": [
        "import numpy as np\n",
        "from keras.preprocessing import image\n",
        "\n",
        "from PIL import Image\n",
        "\n",
        "# Load the image\n",
        "image_path = \"/Users/jamessweat/Desktop/DS_Project_Final/aiother.jpeg\"  # Replace with the path to your image\n",
        "images = Image.open(image_path)\n",
        "\n",
        "# Resize the image to 200x200 pixels\n",
        "new_image = images.resize((200, 200))\n",
        "\n",
        "# Save or display the resized image\n",
        "new_image.save(\"aiother_image.jpg\")  # Save the resized image to a file\n",
        "\n",
        "\n",
        "# Ensure the path is correctly formatted with quotes around it\n",
        "an_image = image.load_img('/Users/jamessweat/Desktop/DS_Project_Final/aiother.jpeg', target_size=(200, 200))\n",
        "\n"
      ]
    },
    {
      "cell_type": "code",
      "execution_count": 31,
      "metadata": {},
      "outputs": [
        {
          "ename": "ValueError",
          "evalue": "Unsupported image shape: (1, 200, 200, 3)",
          "output_type": "error",
          "traceback": [
            "\u001b[0;31m---------------------------------------------------------------------------\u001b[0m",
            "\u001b[0;31mValueError\u001b[0m                                Traceback (most recent call last)",
            "Cell \u001b[0;32mIn[31], line 4\u001b[0m\n\u001b[1;32m      1\u001b[0m \u001b[39mimport\u001b[39;00m \u001b[39mnumpy\u001b[39;00m \u001b[39mas\u001b[39;00m \u001b[39mnp\u001b[39;00m\n\u001b[1;32m      3\u001b[0m \u001b[39m# Convert the image to an array\u001b[39;00m\n\u001b[0;32m----> 4\u001b[0m an_image \u001b[39m=\u001b[39m image\u001b[39m.\u001b[39;49mimg_to_array(an_image)\n\u001b[1;32m      5\u001b[0m an_image \u001b[39m=\u001b[39m np\u001b[39m.\u001b[39mexpand_dims(an_image, axis\u001b[39m=\u001b[39m\u001b[39m0\u001b[39m)  \u001b[39m# Add batch dimension\u001b[39;00m\n\u001b[1;32m      7\u001b[0m \u001b[39m# Perform prediction\u001b[39;00m\n",
            "File \u001b[0;32m/opt/anaconda3/envs/foundations_ml/lib/python3.9/site-packages/keras/src/utils/image_utils.py:334\u001b[0m, in \u001b[0;36mimg_to_array\u001b[0;34m(img, data_format, dtype)\u001b[0m\n\u001b[1;32m    332\u001b[0m         x \u001b[39m=\u001b[39m x\u001b[39m.\u001b[39mreshape((x\u001b[39m.\u001b[39mshape[\u001b[39m0\u001b[39m], x\u001b[39m.\u001b[39mshape[\u001b[39m1\u001b[39m], \u001b[39m1\u001b[39m))\n\u001b[1;32m    333\u001b[0m \u001b[39melse\u001b[39;00m:\n\u001b[0;32m--> 334\u001b[0m     \u001b[39mraise\u001b[39;00m \u001b[39mValueError\u001b[39;00m(\u001b[39mf\u001b[39m\u001b[39m\"\u001b[39m\u001b[39mUnsupported image shape: \u001b[39m\u001b[39m{\u001b[39;00mx\u001b[39m.\u001b[39mshape\u001b[39m}\u001b[39;00m\u001b[39m\"\u001b[39m)\n\u001b[1;32m    335\u001b[0m \u001b[39mreturn\u001b[39;00m x\n",
            "\u001b[0;31mValueError\u001b[0m: Unsupported image shape: (1, 200, 200, 3)"
          ]
        }
      ],
      "source": [
        "import numpy as np\n",
        "\n",
        "# Convert the image to an array\n",
        "an_image = image.img_to_array(an_image)\n",
        "an_image = np.expand_dims(an_image, axis=0)  # Add batch dimension\n",
        "\n",
        "# Perform prediction\n",
        "verdict = newClassifier.predict(an_image)\n",
        "if verdict[0][0] == 0.1:\n",
        "    prediction = 'real'\n",
        "else:\n",
        "    prediction = 'ai'"
      ]
    },
    {
      "cell_type": "code",
      "execution_count": 30,
      "metadata": {},
      "outputs": [
        {
          "data": {
            "text/plain": [
              "'real'"
            ]
          },
          "execution_count": 30,
          "metadata": {},
          "output_type": "execute_result"
        }
      ],
      "source": [
        "prediction"
      ]
    },
    {
      "cell_type": "code",
      "execution_count": null,
      "metadata": {},
      "outputs": [],
      "source": [
        "\n"
      ]
    }
  ],
  "metadata": {
    "colab": {
      "provenance": []
    },
    "kernelspec": {
      "display_name": "foundations_ml",
      "language": "python",
      "name": "python3"
    },
    "language_info": {
      "codemirror_mode": {
        "name": "ipython",
        "version": 3
      },
      "file_extension": ".py",
      "mimetype": "text/x-python",
      "name": "python",
      "nbconvert_exporter": "python",
      "pygments_lexer": "ipython3",
      "version": "3.9.17"
    },
    "vscode": {
      "interpreter": {
        "hash": "130ab6afa2160780407dd824f8707411efe2944e80147d5d0e68e0f3551ba63a"
      }
    }
  },
  "nbformat": 4,
  "nbformat_minor": 0
}
